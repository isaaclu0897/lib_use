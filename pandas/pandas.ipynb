{
 "cells": [
  {
   "cell_type": "code",
   "execution_count": 1,
   "metadata": {
    "collapsed": true,
    "scrolled": false
   },
   "outputs": [],
   "source": [
    "import os\n",
    "import csv\n",
    "\n",
    "os.chdir(r'C:\\Users\\wei\\Desktop\\good')\n",
    "good_file = os.listdir()\n",
    "good_file.remove('n')\n",
    "\n",
    "for filename in good_file:  \n",
    "    path = '.\\\\'\n",
    "    file_path = os.path.join(path, filename)\n",
    "    data = []\n",
    "    with open(file_path, 'r', encoding='utf-8') as f:\n",
    "        read_f = csv.reader(f)\n",
    "        for row in read_f:\n",
    "            data.append(row)\n",
    "    data = data[16:-1]\n",
    "    data.pop(1)\n",
    "\n",
    "    npath = r'.\\n'\n",
    "    nfile_path = os.path.join(npath, 'n' + filename)\n",
    "    with open(nfile_path, 'w', newline='', encoding='utf-8') as f:\n",
    "        write_f = csv.writer(f)\n",
    "        write_f.writerows(data)\n"
   ]
  },
  {
   "cell_type": "code",
   "execution_count": 2,
   "metadata": {
    "scrolled": true
   },
   "outputs": [
    {
     "name": "stdout",
     "output_type": "stream",
     "text": [
      "0\n",
      "    Wind\n",
      "1    1.4\n",
      "2    3.0\n",
      "3    4.9\n",
      "4    6.7\n",
      "5    8.5\n",
      "6    9.6\n",
      "7    9.7\n",
      "8    9.8\n",
      "9    9.9\n",
      "10  10.0\n",
      "1\n",
      "    Wind\n",
      "1    0.4\n",
      "2    0.7\n",
      "3    0.9\n",
      "4    1.1\n",
      "5    1.3\n",
      "6    1.5\n",
      "7    1.6\n",
      "8    1.7\n",
      "9    2.1\n",
      "10   2.9\n",
      "2\n",
      "    Wind\n",
      "1    1.3\n",
      "2    3.3\n",
      "3    5.9\n",
      "4    8.2\n",
      "5    8.6\n",
      "6    8.7\n",
      "7    8.8\n",
      "8    9.1\n",
      "9    9.5\n",
      "10   9.8\n"
     ]
    },
    {
     "name": "stderr",
     "output_type": "stream",
     "text": [
      "C:\\Anaconda3\\lib\\site-packages\\ipykernel_launcher.py:20: DeprecationWarning: \n",
      ".ix is deprecated. Please use\n",
      ".loc for label based indexing or\n",
      ".iloc for positional indexing\n",
      "\n",
      "See the documentation here:\n",
      "http://pandas.pydata.org/pandas-docs/stable/indexing.html#deprecate_ix\n"
     ]
    }
   ],
   "source": [
    "import os\n",
    "import numpy as np\n",
    "import pandas as pd\n",
    "import matplotlib.pyplot as plt\n",
    "\n",
    "os.chdir(r'C:\\Users\\wei\\Desktop\\good')\n",
    "path = r'.\\n'\n",
    "filename = r'ndeg_0_1.csv'\n",
    "wind_sum = np.array(0)\n",
    "lift_sum = np.array(0)\n",
    "drop_sum = np.array(0)\n",
    "for i in range(3):\n",
    "    filename = filename.split('_')\n",
    "    filename[-1] = '{}.csv'.format(i+1)\n",
    "    filename = '_'.join(filename)\n",
    "    file = os.path.join(path, filename)\n",
    "    \n",
    "    wind_df = pd.read_csv(file)\n",
    "\n",
    "    wind = np.array(wind_df.ix[:, [0]])\n",
    "    lift = np.array(wind_df.ix[:, [1]])\n",
    "    drop = np.array(wind_df.ix[:, [2]])\n",
    "    \n",
    "    print(i)\n",
    "    print(wind_df.ix[1:10, [0]])\n",
    "    plt.plot(wind, lift, wind, drop)"
   ]
  },
  {
   "cell_type": "code",
   "execution_count": 22,
   "metadata": {},
   "outputs": [
    {
     "data": {
      "text/plain": [
       "False"
      ]
     },
     "execution_count": 22,
     "metadata": {},
     "output_type": "execute_result"
    }
   ],
   "source": [
    "((\"A\" or \"B\") in \"Bdf\")"
   ]
  }
 ],
 "metadata": {
  "kernelspec": {
   "display_name": "Python 3",
   "language": "python",
   "name": "python3"
  },
  "language_info": {
   "codemirror_mode": {
    "name": "ipython",
    "version": 3
   },
   "file_extension": ".py",
   "mimetype": "text/x-python",
   "name": "python",
   "nbconvert_exporter": "python",
   "pygments_lexer": "ipython3",
   "version": "3.5.4"
  }
 },
 "nbformat": 4,
 "nbformat_minor": 2
}
