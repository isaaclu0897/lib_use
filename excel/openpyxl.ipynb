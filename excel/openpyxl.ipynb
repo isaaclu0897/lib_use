{
 "cells": [
  {
   "cell_type": "code",
   "execution_count": 22,
   "metadata": {
    "scrolled": false
   },
   "outputs": [
    {
     "name": "stderr",
     "output_type": "stream",
     "text": [
      "/home/wei/anaconda3/lib/python3.5/site-packages/openpyxl/worksheet/worksheet.py:303: UserWarning: Using a coordinate with ws.cell is deprecated. Use ws[coordinate] instead\n",
      "  warn(\"Using a coordinate with ws.cell is deprecated. Use ws[coordinate] instead\")\n"
     ]
    }
   ],
   "source": [
    "import openpyxl\n",
    "\n",
    "# 在内存中创建一个workbook对象，而且会至少创建一个 worksheet\n",
    "wb = openpyxl.Workbook()\n",
    " \n",
    "#获取当前活跃的worksheet,默认就是第一个worksheet\n",
    "ws = wb.active\n",
    "\n",
    "#设置单元格的值，A1等于6(测试可知openpyxl的行和列编号从1开始计算)，B1等于7\n",
    "ws.cell(row=1, column=1).value = 6\n",
    "ws.cell(\"B1\").value = 7\n",
    "\n",
    "#从第2行开始，写入9行10列数据，值为对应的列序号A、B、C、D...\n",
    "for row in range(2,11):\n",
    "    for col in range (1,11):\n",
    "        ws.cell(row=row, column=col).value = openpyxl.utils.get_column_letter(col)\n",
    "#可以使用append插入一行数据\n",
    "ws.append([\"我\",\"你\",\"她\"])\n",
    "\n",
    "#保存\n",
    "wb.save(\"/home/wei/桌面/b.xlsx\")\n"
   ]
  },
  {
   "cell_type": "code",
   "execution_count": 32,
   "metadata": {},
   "outputs": [
    {
     "name": "stdout",
     "output_type": "stream",
     "text": [
      "[6, 7, None, None, None, None, None, None, None, None]\n",
      "['A', 'B', 'C', 'D', 'E', 'F', 'G', 'H', 'I', 'J']\n",
      "['A', 'B', 'C', 'D', 'E', 'F', 'G', 'H', 'I', 'J']\n",
      "['A', 'B', 'C', 'D', 'E', 'F', 'G', 'H', 'I', 'J']\n",
      "['A', 'B', 'C', 'D', 'E', 'F', 'G', 'H', 'I', 'J']\n",
      "['A', 'B', 'C', 'D', 'E', 'F', 'G', 'H', 'I', 'J']\n",
      "['A', 'B', 'C', 'D', 'E', 'F', 'G', 'H', 'I', 'J']\n",
      "['A', 'B', 'C', 'D', 'E', 'F', 'G', 'H', 'I', 'J']\n",
      "['A', 'B', 'C', 'D', 'E', 'F', 'G', 'H', 'I', 'J']\n",
      "['A', 'B', 'C', 'D', 'E', 'F', 'G', 'H', 'I', 'J']\n",
      "['我', '你', '她', None, None, None, None, None, None, None]\n",
      "6\n",
      "6\n"
     ]
    },
    {
     "name": "stderr",
     "output_type": "stream",
     "text": [
      "/home/wei/anaconda3/lib/python3.5/site-packages/openpyxl/worksheet/worksheet.py:303: UserWarning: Using a coordinate with ws.cell is deprecated. Use ws[coordinate] instead\n",
      "  warn(\"Using a coordinate with ws.cell is deprecated. Use ws[coordinate] instead\")\n"
     ]
    }
   ],
   "source": [
    "import openpyxl \n",
    "#打开一个workbook\n",
    "wb = openpyxl.load_workbook(filename=\"/home/wei/桌面/a.xlsx\")\n",
    "\n",
    "#获取当前活跃的worksheet,默认就是第一个worksheet\n",
    "# ws = wb.active\n",
    "\n",
    "#当然也可以使用下面的方法\n",
    " \n",
    "#获取所有表格(worksheet)的名字\n",
    "sheets = wb.get_sheet_names()\n",
    "#第一个表格的名称\n",
    "sheet_first = sheets[0]\n",
    "# 获取特定的worksheet\n",
    "ws = wb.get_sheet_by_name(sheet_first)\n",
    " \n",
    "#获取表格所有行和列，两者都是可迭代的\n",
    "rows = ws.rows\n",
    "columns = ws.columns\n",
    " \n",
    "#迭代所有的行\n",
    "for row in rows:\n",
    "    line = [col.value for col in row]\n",
    "    print (line)\n",
    "\n",
    "#通过坐标读取值\n",
    "print (ws.cell('A1').value)    # A表示列,1表示行\n",
    "print (ws.cell(row=1, column=1).value)"
   ]
  },
  {
   "cell_type": "code",
   "execution_count": 79,
   "metadata": {},
   "outputs": [
    {
     "name": "stdout",
     "output_type": "stream",
     "text": [
      "工作表名為：工作表1\n",
      "表格行數為13,列數為2\n",
      "['ghbfj\\\\', 'gh']\n",
      "['gfhj', 'j']\n",
      "['gfhj', 'gh']\n",
      "['hj', 'hj']\n",
      "['ghbfj\\\\', 'gh']\n",
      "['j', 'hj']\n",
      "['ghbfj\\\\', 'gh']\n",
      "['jg', 'jg']\n",
      "['hj', 'j']\n",
      "['jg', 'gh']\n",
      "['hj', 'hj']\n",
      "['gfhj', 'jg']\n",
      "['hj', 'hj']\n",
      "\n",
      "['ghbfj\\\\', 'gfhj', 'gfhj', 'hj', 'ghbfj\\\\', 'j', 'ghbfj\\\\', 'jg', 'hj', 'jg', 'hj', 'gfhj', 'hj']\n",
      "['gh', 'j', 'gh', 'hj', 'gh', 'hj', 'gh', 'jg', 'j', 'gh', 'hj', 'jg', 'hj']\n",
      "\n",
      "ghbfj\\\n",
      "ghbfj\\\n",
      "ghbfj\\\n",
      "\n",
      "工作表名為：工作表2\n",
      "表格行數為18,列數為4\n",
      "['', '', '', '']\n",
      "['', '', '', '']\n",
      "['ghj', '', '', '']\n",
      "['ghj', 'g', '', '']\n",
      "['hj', 'h', '', '']\n",
      "['ghj', 'jg', '', '']\n",
      "['jg', 'hj', '', '']\n",
      "['hj', 'g', '', '']\n",
      "['', 'hj', '', '']\n",
      "['', '', 'g', '']\n",
      "['', '', 'hj', '']\n",
      "['', '', 'g', '']\n",
      "['', '', 'hj', '']\n",
      "['', '', 'g', '']\n",
      "['', '', 'hj', '']\n",
      "['', '', '', 'ghj']\n",
      "['', '', '', 'ghj']\n",
      "['', '', '', 'hj']\n",
      "\n",
      "['', '', 'ghj', 'ghj', 'hj', 'ghj', 'jg', 'hj', '', '', '', '', '', '', '', '', '', '']\n",
      "['', '', '', 'g', 'h', 'jg', 'hj', 'g', 'hj', '', '', '', '', '', '', '', '', '']\n",
      "['', '', '', '', '', '', '', '', '', 'g', 'hj', 'g', 'hj', 'g', 'hj', '', '', '']\n",
      "['', '', '', '', '', '', '', '', '', '', '', '', '', '', '', 'ghj', 'ghj', 'hj']\n",
      "\n",
      "\n",
      "\n",
      "\n",
      "\n"
     ]
    }
   ],
   "source": [
    "import xlrd\n",
    "import os\n",
    "import re\n",
    "\n",
    "\n",
    "data = xlrd.open_workbook('111.xls', 'rb')\n",
    "for i in [0, 1]:\n",
    "    \n",
    "    print('工作表名為：'+ data.sheet_names()[i])\n",
    "    table = data.sheets()[i]\n",
    "    nrows = table.nrows\n",
    "    ncols = table.ncols\n",
    "    print('表格行數為%d,列數為%d'%(nrows,ncols))\n",
    "    \n",
    "    #輸出每一行的值\n",
    "    for item in range(nrows):\n",
    "        print(table.row_values(item))\n",
    "    print()\n",
    "    for item in range(ncols):\n",
    "        print(table.col_values(item))\n",
    "\n",
    "    #獲取單元格的值\n",
    "    cell_A1 = table.row(0)[0].value\n",
    "    cell_A2 = table.cell(0,0).value\n",
    "    cell_A3 = table.col(0)[0].value\n",
    "    print()\n",
    "    print(cell_A1)\n",
    "    print(cell_A2)\n",
    "    print(cell_A3)\n",
    "    print()"
   ]
  },
  {
   "cell_type": "code",
   "execution_count": 84,
   "metadata": {
    "collapsed": true
   },
   "outputs": [],
   "source": [
    "import xlwt\n",
    " \n",
    "data = xlwt.Workbook()\n",
    "#新建工作表,可對同一個單元格重復操作\n",
    "table = data.add_sheet('hello', cell_overwrite_ok=True)\n",
    "table2 = data.add_sheet('good', cell_overwrite_ok=True)\n",
    "#寫入數據到A1單元格\n",
    "table.write(0,0,'hello world')\n",
    "table2.write(0, 0, '123')\n",
    "#保存文件,不支持xlsx格式\n",
    "data.save('test2.xls')\n",
    "\n",
    "#初始化樣式\n",
    "style = xlwt.XFStyle()\n",
    "#創建字體\n",
    "font = xlwt.Font()\n",
    "#指定字體名字\n",
    "font.name = 'Times New Roman'\n",
    "#字體加粗\n",
    "font.bold = True\n",
    "#將該font設定為style的字體\n",
    "style.font = font\n",
    "\n",
    "#寫入到文件時使用該樣式\n",
    "table.write(0,1,'ni hao', style)\n",
    "#修改完要再一次保存\n",
    "data.save('test2.xls')"
   ]
  }
 ],
 "metadata": {
  "kernelspec": {
   "display_name": "Python 3",
   "language": "python",
   "name": "python3"
  },
  "language_info": {
   "codemirror_mode": {
    "name": "ipython",
    "version": 3
   },
   "file_extension": ".py",
   "mimetype": "text/x-python",
   "name": "python",
   "nbconvert_exporter": "python",
   "pygments_lexer": "ipython3",
   "version": "3.5.4"
  }
 },
 "nbformat": 4,
 "nbformat_minor": 2
}
